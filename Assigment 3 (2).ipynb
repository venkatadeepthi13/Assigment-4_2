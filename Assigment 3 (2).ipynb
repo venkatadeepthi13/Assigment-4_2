{
 "cells": [
  {
   "cell_type": "code",
   "execution_count": 1,
   "id": "9191bdbc",
   "metadata": {},
   "outputs": [],
   "source": [
    "#Write a Python program that prints all the numbers from 0 to 6 except 3 and "
   ]
  },
  {
   "cell_type": "code",
   "execution_count": 2,
   "id": "bf042b68",
   "metadata": {},
   "outputs": [
    {
     "name": "stdout",
     "output_type": "stream",
     "text": [
      "0\n",
      "1\n",
      "2\n",
      "4\n",
      "5\n",
      "6\n"
     ]
    }
   ],
   "source": [
    "for x in range(0,7):\n",
    "    if x!=3:\n",
    "        print(x)"
   ]
  },
  {
   "cell_type": "code",
   "execution_count": 3,
   "id": "e80c3f68",
   "metadata": {},
   "outputs": [],
   "source": [
    "#Write a program to accept a number from a user and calculate the sum of all numbers from 1 to a given number"
   ]
  },
  {
   "cell_type": "code",
   "execution_count": 17,
   "id": "1c4bc0dc",
   "metadata": {},
   "outputs": [
    {
     "name": "stdout",
     "output_type": "stream",
     "text": [
      "enter your number: 5\n",
      "15\n"
     ]
    }
   ],
   "source": [
    "num1=int(input('enter your number: '))\n",
    "sum=0\n",
    "for x in range(1,num1+1):\n",
    "    sum+=x\n",
    "print(sum)"
   ]
  },
  {
   "cell_type": "code",
   "execution_count": 18,
   "id": "ab755d3c",
   "metadata": {},
   "outputs": [],
   "source": [
    "#Write a program to print multiplication table of a given number(input)"
   ]
  },
  {
   "cell_type": "code",
   "execution_count": 26,
   "id": "dfdd30ab",
   "metadata": {},
   "outputs": [
    {
     "name": "stdout",
     "output_type": "stream",
     "text": [
      "enter your number: 6\n",
      "6 * 1 = 6\n",
      "6 * 2 = 12\n",
      "6 * 3 = 18\n",
      "6 * 4 = 24\n",
      "6 * 5 = 30\n",
      "6 * 6 = 36\n",
      "6 * 7 = 42\n",
      "6 * 8 = 48\n",
      "6 * 9 = 54\n",
      "6 * 10 = 60\n"
     ]
    }
   ],
   "source": [
    "num1=int(input('enter your number: '))\n",
    "print('{} * 1 = {}'.format(num1,1*num1))\n",
    "print('{} * 2 = {}'.format(num1,2*num1))\n",
    "print('{} * 3 = {}'.format(num1,3*num1))\n",
    "print('{} * 4 = {}'.format(num1,4*num1))\n",
    "print('{} * 5 = {}'.format(num1,5*num1))\n",
    "print('{} * 6 = {}'.format(num1,6*num1))\n",
    "print('{} * 7 = {}'.format(num1,7*num1))\n",
    "print('{} * 8 = {}'.format(num1,8*num1))\n",
    "print('{} * 9 = {}'.format(num1,9*num1))\n",
    "print('{} * 10 = {}'.format(num1,10*num1))"
   ]
  },
  {
   "cell_type": "code",
   "execution_count": 27,
   "id": "35f3ffc8",
   "metadata": {},
   "outputs": [],
   "source": [
    "#Write a program to count the total number of digits in a number using a while loop.\n",
    "#For example, the number is 75869, so the output should be 5."
   ]
  },
  {
   "cell_type": "code",
   "execution_count": 9,
   "id": "59987f44",
   "metadata": {},
   "outputs": [
    {
     "name": "stdout",
     "output_type": "stream",
     "text": [
      "enter your number: 7428908296139\n",
      "13\n"
     ]
    }
   ],
   "source": [
    "num=int(input('enter your number: '))\n",
    "count=0\n",
    "while num!=0:\n",
    "    num=num//10\n",
    "    count=count+1\n",
    "print(count)"
   ]
  },
  {
   "cell_type": "code",
   "execution_count": null,
   "id": "3372a562",
   "metadata": {},
   "outputs": [],
   "source": [
    "#Write a Python program to guess a number between 1 to\n",
    "#Example:\n",
    "#User is prompted to enter a guess. If the user guesses wrong then the prompt appears again until the guess is correct, on\n",
    "#successful guess, user will get a \"Well guessed!\" message, and the program will exit."
   ]
  },
  {
   "cell_type": "code",
   "execution_count": null,
   "id": "3806d193",
   "metadata": {},
   "outputs": [
    {
     "name": "stdout",
     "output_type": "stream",
     "text": [
      "enter a number: 6\n",
      "guess a number between 1 t0 10: 2\n",
      "try again\n",
      "enter a number: 9\n",
      "guess a number between 1 t0 10: 100\n",
      "try again\n"
     ]
    }
   ],
   "source": [
    "x=1\n",
    "while x==1:\n",
    "    n=int(input('enter a number: '))\n",
    "    a=int(input('guess a number between 1 t0 10: '))\n",
    "    if a==n:\n",
    "        print('well done')\n",
    "        break\n",
    "    else:\n",
    "        print('try again')"
   ]
  },
  {
   "cell_type": "code",
   "execution_count": null,
   "id": "f2ad8bc7",
   "metadata": {},
   "outputs": [],
   "source": [
    "#Write a Python program which iterates the integers from 1 to 60. For multiples of three print \"Fizz\" instead of the number and \n",
    "#for the multiples of five print \"Buzz\". For numbers which are multiples of both three and five print \"FizzBuzz\".\n"
   ]
  },
  {
   "cell_type": "code",
   "execution_count": 18,
   "id": "a9bc5351",
   "metadata": {},
   "outputs": [
    {
     "name": "stdout",
     "output_type": "stream",
     "text": [
      "fizz\n",
      "buss\n",
      "fizz\n",
      "fizz\n",
      "buss\n",
      "fizz\n",
      "fizz\n",
      "fizz\n",
      "buss\n",
      "fizz\n",
      "fizz\n",
      "buss\n",
      "fizz\n",
      "fizz\n",
      "fizz\n",
      "buss\n",
      "fizz\n",
      "fizz\n",
      "buss\n",
      "fizz\n",
      "fizz\n",
      "fizz\n",
      "buss\n",
      "fizz\n",
      "fizz\n",
      "buss\n",
      "fizz\n",
      "fizz\n"
     ]
    }
   ],
   "source": [
    "for x in range(1,61):\n",
    "    if x%3==0:\n",
    "        print('fizz')\n",
    "    elif x%3==0 and x%5==0:\n",
    "        print('fizzbuss')\n",
    "    elif x%5==0:\n",
    "        print('buss')"
   ]
  },
  {
   "cell_type": "code",
   "execution_count": null,
   "id": "308cd57d",
   "metadata": {},
   "outputs": [],
   "source": [
    "#Write a Python program that accepts a string and calculate the number of digits and letters\n",
    "#Example:\n",
    "#Input\n",
    "#Python 3.2\n",
    "#Output\n",
    "#Letters 6\n",
    "#Digits 2"
   ]
  },
  {
   "cell_type": "code",
   "execution_count": 2,
   "id": "91d907c4",
   "metadata": {},
   "outputs": [
    {
     "name": "stdout",
     "output_type": "stream",
     "text": [
      "enter your word: aravind069\n",
      "digits:  3\n",
      "letters:  7\n"
     ]
    }
   ],
   "source": [
    "string=input('enter your word: ')\n",
    "letters=0\n",
    "digits=0\n",
    "for y in string:\n",
    "    if y.isdigit():\n",
    "        digits=digits+1\n",
    "    else:\n",
    "        letters=letters+1\n",
    "print('digits: ',digits)\n",
    "print('letters: ',letters)"
   ]
  },
  {
   "cell_type": "code",
   "execution_count": null,
   "id": "a89a0cd5",
   "metadata": {},
   "outputs": [],
   "source": [
    "#Write a Python program to check the validity of password input by users.\n",
    "#Validation:\n",
    "#At least 1 letter between [a-z] and 1 letter between [A-Z].\n",
    "#At least 1 number between [0-9].\n",
    "#At least 1 character from [$#@].\n",
    "#Minimum length 6 characters.\n",
    "#Maximum length 16 characters"
   ]
  },
  {
   "cell_type": "code",
   "execution_count": 28,
   "id": "b00729b1",
   "metadata": {},
   "outputs": [
    {
     "name": "stdout",
     "output_type": "stream",
     "text": [
      "enter your password: ndncL34\n"
     ]
    }
   ],
   "source": [
    "password=(input('enter your password: '))\n",
    "if password=='a-z' and password=='0-9':\n",
    "    print(valid)\n"
   ]
  },
  {
   "cell_type": "code",
   "execution_count": null,
   "id": "8379bc5f",
   "metadata": {},
   "outputs": [],
   "source": [
    "#Write a program in Python to reverse a word by using while loop"
   ]
  },
  {
   "cell_type": "code",
   "execution_count": null,
   "id": "7e4f74b5",
   "metadata": {},
   "outputs": [],
   "source": [
    "word=input('enter your word:')\n",
    "x=0\n",
    "while x:\n",
    "    "
   ]
  },
  {
   "cell_type": "code",
   "execution_count": null,
   "id": "052b3e35",
   "metadata": {},
   "outputs": [],
   "source": [
    "#Write a program which takes 10 integers as input using loop and print their average value on the screen"
   ]
  },
  {
   "cell_type": "code",
   "execution_count": 5,
   "id": "eed93844",
   "metadata": {},
   "outputs": [
    {
     "name": "stdout",
     "output_type": "stream",
     "text": [
      "enter your number: 4\n",
      "enter your number: 7\n",
      "enter your number: 88\n",
      "enter your number: 2\n",
      "enter your number: 7\n",
      "enter your number: 2\n",
      "enter your number: 1\n",
      "enter your number: 9\n",
      "enter your number: 3\n",
      "enter your number: 6\n",
      "enter your number: 2\n",
      "the average vaule is:  13.1\n"
     ]
    }
   ],
   "source": [
    "sum=0\n",
    "for x in range(0,11):\n",
    "    num=int(input('enter your number: '))\n",
    "    sum=(sum+num)\n",
    "average=sum/10\n",
    "print('the average vaule is: ',average)"
   ]
  },
  {
   "cell_type": "code",
   "execution_count": null,
   "id": "3f3c758f",
   "metadata": {},
   "outputs": [],
   "source": [
    "#Write a program which takes integer inputs from user until he/she presses “q” (Ask to press q to quit after every integerinput)\n",
    "#Print average and product of all numbers."
   ]
  },
  {
   "cell_type": "code",
   "execution_count": 2,
   "id": "a64f1de6",
   "metadata": {},
   "outputs": [
    {
     "name": "stdout",
     "output_type": "stream",
     "text": [
      "enter your charactert\n",
      "enter your number: 7\n",
      "enter your number: 6\n",
      "7 * 6 = 42\n",
      "7 + 6 /2 = 6.5\n",
      "enter your symbol: o\n",
      "enter your number: 12\n",
      "enter your number: 6\n",
      "12 * 6 = 72\n",
      "12 + 6 /2 = 9.0\n",
      "enter your symbol: q\n"
     ]
    }
   ],
   "source": [
    "char=input('enter your character')\n",
    "while char!='q':\n",
    "    x=int(input('enter your number: '))\n",
    "    y=int(input('enter your number: '))\n",
    "    print('{} * {} = {}'.format(x,y,x*y))\n",
    "    print('{} + {} /2 = {}'.format(x,y,(x+y)/2))\n",
    "    char=input('enter your symbol: ')"
   ]
  },
  {
   "cell_type": "code",
   "execution_count": null,
   "id": "1122bc51",
   "metadata": {},
   "outputs": [],
   "source": [
    "#Write a Python program which will remove all digits or any other characters from the string except alphabets\n",
    "#Example:\n",
    "#Input:\n",
    "#“asd12.asd22”\n",
    "#Output:\n",
    "#'asdasd'"
   ]
  },
  {
   "cell_type": "code",
   "execution_count": 4,
   "id": "adce298b",
   "metadata": {},
   "outputs": [
    {
     "name": "stdout",
     "output_type": "stream",
     "text": [
      "enter your string: akjhjkdab#24dfg#%&13df\n"
     ]
    }
   ],
   "source": [
    "str1=input('enter your string: ')\n",
    "for x in range(len(str1)):\n",
    "    if str1.isalpha():\n",
    "        print(str1)"
   ]
  },
  {
   "cell_type": "code",
   "execution_count": null,
   "id": "a76674f2",
   "metadata": {},
   "outputs": [],
   "source": [
    "#Write a python program to find the sum of all even numbers from 0 to 10"
   ]
  },
  {
   "cell_type": "code",
   "execution_count": 9,
   "id": "a4764acb",
   "metadata": {},
   "outputs": [
    {
     "name": "stdout",
     "output_type": "stream",
     "text": [
      "30\n"
     ]
    }
   ],
   "source": [
    "y=0\n",
    "for x in range(0,11):\n",
    "    if x%2==0:\n",
    "        y=y+x\n",
    "print(y)"
   ]
  },
  {
   "cell_type": "code",
   "execution_count": 5,
   "id": "f0341465",
   "metadata": {},
   "outputs": [],
   "source": [
    "#Write a python program which will accept a digit and print. All the numbers before it till 0\n",
    "#Example:\n",
    "#Input:\n",
    "#5\n",
    "#Output:\n",
    "#4\n",
    "#3\n",
    "#2\n",
    "#1\n",
    "#0"
   ]
  },
  {
   "cell_type": "code",
   "execution_count": 5,
   "id": "e30c63b7",
   "metadata": {},
   "outputs": [
    {
     "name": "stdout",
     "output_type": "stream",
     "text": [
      "enter your number: 6\n",
      "5\n",
      "4\n",
      "3\n",
      "2\n",
      "1\n"
     ]
    }
   ],
   "source": [
    "x=int(input('enter your number: '))\n",
    "for y in range(x-1,0,-1):\n",
    "    print(y)"
   ]
  },
  {
   "cell_type": "code",
   "execution_count": null,
   "id": "ec656613",
   "metadata": {},
   "outputs": [],
   "source": [
    "#Create a dynamic calculator which will run continually till you press “c"
   ]
  },
  {
   "cell_type": "code",
   "execution_count": 8,
   "id": "3fd5753b",
   "metadata": {},
   "outputs": [
    {
     "name": "stdout",
     "output_type": "stream",
     "text": [
      "enter your letter: r\n",
      "enter x:5\n",
      "enter y:7\n",
      "5+7=12\n",
      "5-7=-2\n",
      "5*7=35\n",
      "5/7=0.7142857142857143\n",
      "5%7=5\n",
      "enter your letter: y\n",
      "enter x:8\n",
      "enter y:3\n",
      "8+3=11\n",
      "8-3=5\n",
      "8*3=24\n",
      "8/3=2.6666666666666665\n",
      "8%3=2\n",
      "enter your letter: c\n"
     ]
    }
   ],
   "source": [
    "char=input('enter your letter: ')\n",
    "while char!='c':\n",
    "    num1=int(input('enter your number:'))\n",
    "    num2=int(input('enter your number:'))\n",
    "    print('{}+{}={}'.format(x,y,x+y))\n",
    "    print('{}-{}={}'.format(x,y,x-y))\n",
    "    print('{}*{}={}'.format(x,y,x*y))\n",
    "    print('{}/{}={}'.format(x,y,x/y))\n",
    "    print('{}%{}={}'.format(x,y,x%y))\n",
    "    char=input('enter your letter: ')\n",
    "    "
   ]
  },
  {
   "cell_type": "code",
   "execution_count": null,
   "id": "9e9458a2",
   "metadata": {},
   "outputs": [],
   "source": []
  },
  {
   "cell_type": "code",
   "execution_count": null,
   "id": "7ca02dbe",
   "metadata": {},
   "outputs": [],
   "source": []
  }
 ],
 "metadata": {
  "kernelspec": {
   "display_name": "Python 3 (ipykernel)",
   "language": "python",
   "name": "python3"
  },
  "language_info": {
   "codemirror_mode": {
    "name": "ipython",
    "version": 3
   },
   "file_extension": ".py",
   "mimetype": "text/x-python",
   "name": "python",
   "nbconvert_exporter": "python",
   "pygments_lexer": "ipython3",
   "version": "3.9.7"
  }
 },
 "nbformat": 4,
 "nbformat_minor": 5
}
